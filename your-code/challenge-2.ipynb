{
 "cells": [
  {
   "cell_type": "markdown",
   "metadata": {},
   "source": [
    "# Challenge 2: Sentiment Analysis\n",
    "\n",
    "In this challenge we will learn sentiment analysis and practice performing sentiment analysis on Twitter tweets. \n",
    "\n",
    "## Introduction\n",
    "\n",
    "Sentiment analysis is to *systematically identify, extract, quantify, and study affective states and subjective information* based on texts ([reference](https://en.wikipedia.org/wiki/Sentiment_analysis)). In simple words, it's to understand whether a person is happy or unhappy in producing the piece of text. Why we (or rather, companies) care about sentiment in texts? It's because by understanding the sentiments in texts, we will be able to know if our customers are happy or unhappy about our products and services. If they are unhappy, the subsequent action is to figure out what have caused the unhappiness and make improvements.\n",
    "\n",
    "Basic sentiment analysis only understands the *positive* or *negative* (sometimes *neutral* too) polarities of the sentiment. More advanced sentiment analysis will also consider dimensions such as agreement, subjectivity, confidence, irony, and so on. In this challenge we will conduct the basic positive vs negative sentiment analysis based on real Twitter tweets.\n",
    "\n",
    "NLTK comes with a [sentiment analysis package](https://www.nltk.org/api/nltk.sentiment.html). This package is great for dummies to perform sentiment analysis because it requires only the textual data to make predictions. For example:\n",
    "\n",
    "```python\n",
    ">>> from nltk.sentiment.vader import SentimentIntensityAnalyzer\n",
    ">>> txt = \"Ironhack is a Global Tech School ranked num 2 worldwide.  ",
    " ",
    "Our mission is to help people transform their careers and join a thriving community of tech professionals that love what they do.\"\n",
    ">>> analyzer = SentimentIntensityAnalyzer()\n",
    ">>> analyzer.polarity_scores(txt)\n",
    "{'neg': 0.0, 'neu': 0.741, 'pos': 0.259, 'compound': 0.8442}\n",
    "```\n",
    "\n",
    "In this challenge, however, you will not use NLTK's sentiment analysis package because in your Machine Learning training in the past 2 weeks you have learned how to make predictions more accurate than that. The [tweets data](https://www.kaggle.com/kazanova/sentiment140) we will be using today are already coded for the positive/negative sentiment. You will be able to use the Naïve Bayes classifier you learned in the lesson to predict the sentiment of tweets based on the labels."
   ]
  },
  {
   "cell_type": "markdown",
   "metadata": {},
   "source": [
    "## Conducting Sentiment Analysis\n",
    "\n",
    "### Loading and Exploring Data\n",
    "\n",
    "The dataset we'll be using today is located on Kaggle (https://www.kaggle.com/kazanova/sentiment140). Once you have downloaded and imported the dataset, it you will need to define the columns names: df.columns = ['target','id','date','flag','user','text']\n",
    "\n",
    "*Notes:* \n",
    "\n",
    "* The dataset is huuuuge (1.6m tweets). When you develop your data analysis codes, you can sample a subset of the data (e.g. 20k records) so that you will save a lot of time when you test your codes."
   ]
  },
  {
   "cell_type": "code",
   "execution_count": 1,
   "metadata": {},
   "outputs": [],
   "source": [
    "# your code here\n",
    "import pandas as pd\n",
    "import nltk\n",
    "from nltk.stem import WordNetLemmatizer \n",
    "from nltk.corpus import stopwords\n",
    "from sklearn.feature_extraction.text import CountVectorizer\n",
    "import re\n"
   ]
  },
  {
   "cell_type": "code",
   "execution_count": 2,
   "metadata": {},
   "outputs": [],
   "source": [
    "%run challenge-1.ipynb"
   ]
  },
  {
   "cell_type": "code",
   "execution_count": 3,
   "metadata": {},
   "outputs": [],
   "source": [
    "df=pd.read_csv(r'C:\\Users\\Admin\\Downloads\\lab-nlp\\training.1600000.processed.noemoticon.csv',encoding = 'latin',header=None)\n"
   ]
  },
  {
   "cell_type": "code",
   "execution_count": 4,
   "metadata": {},
   "outputs": [],
   "source": [
    "df.columns= ['target','id','date','flag','user','text']"
   ]
  },
  {
   "cell_type": "code",
   "execution_count": 5,
   "metadata": {},
   "outputs": [],
   "source": [
    "df=df.sample(5000)"
   ]
  },
  {
   "cell_type": "code",
   "execution_count": 6,
   "metadata": {},
   "outputs": [
    {
     "data": {
      "text/html": [
       "<div>\n",
       "<style scoped>\n",
       "    .dataframe tbody tr th:only-of-type {\n",
       "        vertical-align: middle;\n",
       "    }\n",
       "\n",
       "    .dataframe tbody tr th {\n",
       "        vertical-align: top;\n",
       "    }\n",
       "\n",
       "    .dataframe thead th {\n",
       "        text-align: right;\n",
       "    }\n",
       "</style>\n",
       "<table border=\"1\" class=\"dataframe\">\n",
       "  <thead>\n",
       "    <tr style=\"text-align: right;\">\n",
       "      <th></th>\n",
       "      <th>target</th>\n",
       "      <th>id</th>\n",
       "      <th>date</th>\n",
       "      <th>flag</th>\n",
       "      <th>user</th>\n",
       "      <th>text</th>\n",
       "    </tr>\n",
       "  </thead>\n",
       "  <tbody>\n",
       "    <tr>\n",
       "      <th>663294</th>\n",
       "      <td>0</td>\n",
       "      <td>2244063679</td>\n",
       "      <td>Fri Jun 19 14:15:17 PDT 2009</td>\n",
       "      <td>NO_QUERY</td>\n",
       "      <td>moe_7210</td>\n",
       "      <td>Too much drama i need a break</td>\n",
       "    </tr>\n",
       "    <tr>\n",
       "      <th>1492571</th>\n",
       "      <td>4</td>\n",
       "      <td>2069322995</td>\n",
       "      <td>Sun Jun 07 15:40:02 PDT 2009</td>\n",
       "      <td>NO_QUERY</td>\n",
       "      <td>MaschaD</td>\n",
       "      <td>@Dave_Annable good for u Dave sometimes u gott...</td>\n",
       "    </tr>\n",
       "    <tr>\n",
       "      <th>1271934</th>\n",
       "      <td>4</td>\n",
       "      <td>2000630703</td>\n",
       "      <td>Mon Jun 01 22:33:45 PDT 2009</td>\n",
       "      <td>NO_QUERY</td>\n",
       "      <td>scibo222</td>\n",
       "      <td>Watching Conan O'Brian on the tonight show. Lo...</td>\n",
       "    </tr>\n",
       "    <tr>\n",
       "      <th>1209447</th>\n",
       "      <td>4</td>\n",
       "      <td>1988937067</td>\n",
       "      <td>Sun May 31 23:49:36 PDT 2009</td>\n",
       "      <td>NO_QUERY</td>\n",
       "      <td>rissybug</td>\n",
       "      <td>@LoveKota Following  I so text you ho...</td>\n",
       "    </tr>\n",
       "    <tr>\n",
       "      <th>209371</th>\n",
       "      <td>0</td>\n",
       "      <td>1973956714</td>\n",
       "      <td>Sat May 30 12:09:40 PDT 2009</td>\n",
       "      <td>NO_QUERY</td>\n",
       "      <td>SIM00N</td>\n",
       "      <td>@natalieridout yea it was ok - didn't do much ...</td>\n",
       "    </tr>\n",
       "    <tr>\n",
       "      <th>...</th>\n",
       "      <td>...</td>\n",
       "      <td>...</td>\n",
       "      <td>...</td>\n",
       "      <td>...</td>\n",
       "      <td>...</td>\n",
       "      <td>...</td>\n",
       "    </tr>\n",
       "    <tr>\n",
       "      <th>865766</th>\n",
       "      <td>4</td>\n",
       "      <td>1677507235</td>\n",
       "      <td>Sat May 02 02:26:58 PDT 2009</td>\n",
       "      <td>NO_QUERY</td>\n",
       "      <td>sdziallas</td>\n",
       "      <td>@suze2000 do you still have one spare?</td>\n",
       "    </tr>\n",
       "    <tr>\n",
       "      <th>937050</th>\n",
       "      <td>4</td>\n",
       "      <td>1793140269</td>\n",
       "      <td>Thu May 14 01:31:39 PDT 2009</td>\n",
       "      <td>NO_QUERY</td>\n",
       "      <td>bogwhoppit</td>\n",
       "      <td>@eastenderschat glad easties won</td>\n",
       "    </tr>\n",
       "    <tr>\n",
       "      <th>361463</th>\n",
       "      <td>0</td>\n",
       "      <td>2046927220</td>\n",
       "      <td>Fri Jun 05 12:53:53 PDT 2009</td>\n",
       "      <td>NO_QUERY</td>\n",
       "      <td>ZombieCanary</td>\n",
       "      <td>My mom has to pay 725 a month for sarah to go ...</td>\n",
       "    </tr>\n",
       "    <tr>\n",
       "      <th>194291</th>\n",
       "      <td>0</td>\n",
       "      <td>1970258730</td>\n",
       "      <td>Sat May 30 03:06:42 PDT 2009</td>\n",
       "      <td>NO_QUERY</td>\n",
       "      <td>innocencedied</td>\n",
       "      <td>@dancedancetoday thats so bad  dunno what i co...</td>\n",
       "    </tr>\n",
       "    <tr>\n",
       "      <th>933834</th>\n",
       "      <td>4</td>\n",
       "      <td>1792116071</td>\n",
       "      <td>Wed May 13 22:10:00 PDT 2009</td>\n",
       "      <td>NO_QUERY</td>\n",
       "      <td>pamelapot</td>\n",
       "      <td>READY for summer</td>\n",
       "    </tr>\n",
       "  </tbody>\n",
       "</table>\n",
       "<p>5000 rows × 6 columns</p>\n",
       "</div>"
      ],
      "text/plain": [
       "         target          id                          date      flag  \\\n",
       "663294        0  2244063679  Fri Jun 19 14:15:17 PDT 2009  NO_QUERY   \n",
       "1492571       4  2069322995  Sun Jun 07 15:40:02 PDT 2009  NO_QUERY   \n",
       "1271934       4  2000630703  Mon Jun 01 22:33:45 PDT 2009  NO_QUERY   \n",
       "1209447       4  1988937067  Sun May 31 23:49:36 PDT 2009  NO_QUERY   \n",
       "209371        0  1973956714  Sat May 30 12:09:40 PDT 2009  NO_QUERY   \n",
       "...         ...         ...                           ...       ...   \n",
       "865766        4  1677507235  Sat May 02 02:26:58 PDT 2009  NO_QUERY   \n",
       "937050        4  1793140269  Thu May 14 01:31:39 PDT 2009  NO_QUERY   \n",
       "361463        0  2046927220  Fri Jun 05 12:53:53 PDT 2009  NO_QUERY   \n",
       "194291        0  1970258730  Sat May 30 03:06:42 PDT 2009  NO_QUERY   \n",
       "933834        4  1792116071  Wed May 13 22:10:00 PDT 2009  NO_QUERY   \n",
       "\n",
       "                  user                                               text  \n",
       "663294        moe_7210                     Too much drama i need a break   \n",
       "1492571        MaschaD  @Dave_Annable good for u Dave sometimes u gott...  \n",
       "1271934       scibo222  Watching Conan O'Brian on the tonight show. Lo...  \n",
       "1209447       rissybug           @LoveKota Following  I so text you ho...  \n",
       "209371          SIM00N  @natalieridout yea it was ok - didn't do much ...  \n",
       "...                ...                                                ...  \n",
       "865766       sdziallas            @suze2000 do you still have one spare?   \n",
       "937050      bogwhoppit                  @eastenderschat glad easties won   \n",
       "361463    ZombieCanary  My mom has to pay 725 a month for sarah to go ...  \n",
       "194291   innocencedied  @dancedancetoday thats so bad  dunno what i co...  \n",
       "933834       pamelapot                                  READY for summer   \n",
       "\n",
       "[5000 rows x 6 columns]"
      ]
     },
     "execution_count": 6,
     "metadata": {},
     "output_type": "execute_result"
    }
   ],
   "source": [
    "df"
   ]
  },
  {
   "cell_type": "code",
   "execution_count": 47,
   "metadata": {},
   "outputs": [
    {
     "data": {
      "text/plain": [
       "array([0, 4, 4, ..., 0, 0, 4], dtype=int64)"
      ]
     },
     "execution_count": 47,
     "metadata": {},
     "output_type": "execute_result"
    }
   ],
   "source": [
    "df['target'].values"
   ]
  },
  {
   "cell_type": "markdown",
   "metadata": {},
   "source": [
    "### Prepare Textual Data for Sentiment Analysis\n",
    "\n",
    "Now, apply the functions you have written in Challenge 1 to your whole data set. These functions include:\n",
    "\n",
    "* `clean_up()`\n",
    "\n",
    "* `tokenize()`\n",
    "\n",
    "* `stem_and_lemmatize()`\n",
    "\n",
    "* `remove_stopwords()`\n",
    "\n",
    "Create a new column called `text_processed` in the dataframe to contain the processed data. At the end, your `text_processed` column should contain lists of word tokens that are cleaned up. Your data should look like below:\n",
    "\n",
    "![Processed Data](data-cleaning-results.png)"
   ]
  },
  {
   "cell_type": "code",
   "execution_count": null,
   "metadata": {},
   "outputs": [],
   "source": []
  },
  {
   "cell_type": "code",
   "execution_count": 7,
   "metadata": {},
   "outputs": [],
   "source": [
    "# your code here\n",
    "df['text_processed']=df['text'].apply(clean_up).apply(tokenize).apply(stem_and_lemmatize).apply(remove_stopwords)"
   ]
  },
  {
   "cell_type": "code",
   "execution_count": 8,
   "metadata": {},
   "outputs": [
    {
     "data": {
      "text/html": [
       "<div>\n",
       "<style scoped>\n",
       "    .dataframe tbody tr th:only-of-type {\n",
       "        vertical-align: middle;\n",
       "    }\n",
       "\n",
       "    .dataframe tbody tr th {\n",
       "        vertical-align: top;\n",
       "    }\n",
       "\n",
       "    .dataframe thead th {\n",
       "        text-align: right;\n",
       "    }\n",
       "</style>\n",
       "<table border=\"1\" class=\"dataframe\">\n",
       "  <thead>\n",
       "    <tr style=\"text-align: right;\">\n",
       "      <th></th>\n",
       "      <th>target</th>\n",
       "      <th>id</th>\n",
       "      <th>date</th>\n",
       "      <th>flag</th>\n",
       "      <th>user</th>\n",
       "      <th>text</th>\n",
       "      <th>text_processed</th>\n",
       "    </tr>\n",
       "  </thead>\n",
       "  <tbody>\n",
       "    <tr>\n",
       "      <th>663294</th>\n",
       "      <td>0</td>\n",
       "      <td>2244063679</td>\n",
       "      <td>Fri Jun 19 14:15:17 PDT 2009</td>\n",
       "      <td>NO_QUERY</td>\n",
       "      <td>moe_7210</td>\n",
       "      <td>Too much drama i need a break</td>\n",
       "      <td>[drama, break]</td>\n",
       "    </tr>\n",
       "    <tr>\n",
       "      <th>1492571</th>\n",
       "      <td>4</td>\n",
       "      <td>2069322995</td>\n",
       "      <td>Sun Jun 07 15:40:02 PDT 2009</td>\n",
       "      <td>NO_QUERY</td>\n",
       "      <td>MaschaD</td>\n",
       "      <td>@Dave_Annable good for u Dave sometimes u gott...</td>\n",
       "      <td>[dave, annabl, dave, sometim, courag]</td>\n",
       "    </tr>\n",
       "    <tr>\n",
       "      <th>1271934</th>\n",
       "      <td>4</td>\n",
       "      <td>2000630703</td>\n",
       "      <td>Mon Jun 01 22:33:45 PDT 2009</td>\n",
       "      <td>NO_QUERY</td>\n",
       "      <td>scibo222</td>\n",
       "      <td>Watching Conan O'Brian on the tonight show. Lo...</td>\n",
       "      <td>[watch, conan, brian, tonight, show, love, hair]</td>\n",
       "    </tr>\n",
       "    <tr>\n",
       "      <th>1209447</th>\n",
       "      <td>4</td>\n",
       "      <td>1988937067</td>\n",
       "      <td>Sun May 31 23:49:36 PDT 2009</td>\n",
       "      <td>NO_QUERY</td>\n",
       "      <td>rissybug</td>\n",
       "      <td>@LoveKota Following  I so text you ho...</td>\n",
       "      <td>[lovekota, follow, text]</td>\n",
       "    </tr>\n",
       "    <tr>\n",
       "      <th>209371</th>\n",
       "      <td>0</td>\n",
       "      <td>1973956714</td>\n",
       "      <td>Sat May 30 12:09:40 PDT 2009</td>\n",
       "      <td>NO_QUERY</td>\n",
       "      <td>SIM00N</td>\n",
       "      <td>@natalieridout yea it was ok - didn't do much ...</td>\n",
       "      <td>[natalieridout, yea, wa, attempt, work, wait, ...</td>\n",
       "    </tr>\n",
       "    <tr>\n",
       "      <th>...</th>\n",
       "      <td>...</td>\n",
       "      <td>...</td>\n",
       "      <td>...</td>\n",
       "      <td>...</td>\n",
       "      <td>...</td>\n",
       "      <td>...</td>\n",
       "      <td>...</td>\n",
       "    </tr>\n",
       "    <tr>\n",
       "      <th>865766</th>\n",
       "      <td>4</td>\n",
       "      <td>1677507235</td>\n",
       "      <td>Sat May 02 02:26:58 PDT 2009</td>\n",
       "      <td>NO_QUERY</td>\n",
       "      <td>sdziallas</td>\n",
       "      <td>@suze2000 do you still have one spare?</td>\n",
       "      <td>[suze, spare]</td>\n",
       "    </tr>\n",
       "    <tr>\n",
       "      <th>937050</th>\n",
       "      <td>4</td>\n",
       "      <td>1793140269</td>\n",
       "      <td>Thu May 14 01:31:39 PDT 2009</td>\n",
       "      <td>NO_QUERY</td>\n",
       "      <td>bogwhoppit</td>\n",
       "      <td>@eastenderschat glad easties won</td>\n",
       "      <td>[eastenderschat, glad, easti]</td>\n",
       "    </tr>\n",
       "    <tr>\n",
       "      <th>361463</th>\n",
       "      <td>0</td>\n",
       "      <td>2046927220</td>\n",
       "      <td>Fri Jun 05 12:53:53 PDT 2009</td>\n",
       "      <td>NO_QUERY</td>\n",
       "      <td>ZombieCanary</td>\n",
       "      <td>My mom has to pay 725 a month for sarah to go ...</td>\n",
       "      <td>[mom, pay, month, sarah, school]</td>\n",
       "    </tr>\n",
       "    <tr>\n",
       "      <th>194291</th>\n",
       "      <td>0</td>\n",
       "      <td>1970258730</td>\n",
       "      <td>Sat May 30 03:06:42 PDT 2009</td>\n",
       "      <td>NO_QUERY</td>\n",
       "      <td>innocencedied</td>\n",
       "      <td>@dancedancetoday thats so bad  dunno what i co...</td>\n",
       "      <td>[dancedancetoday, dunno, hope]</td>\n",
       "    </tr>\n",
       "    <tr>\n",
       "      <th>933834</th>\n",
       "      <td>4</td>\n",
       "      <td>1792116071</td>\n",
       "      <td>Wed May 13 22:10:00 PDT 2009</td>\n",
       "      <td>NO_QUERY</td>\n",
       "      <td>pamelapot</td>\n",
       "      <td>READY for summer</td>\n",
       "      <td>[readi, summer]</td>\n",
       "    </tr>\n",
       "  </tbody>\n",
       "</table>\n",
       "<p>5000 rows × 7 columns</p>\n",
       "</div>"
      ],
      "text/plain": [
       "         target          id                          date      flag  \\\n",
       "663294        0  2244063679  Fri Jun 19 14:15:17 PDT 2009  NO_QUERY   \n",
       "1492571       4  2069322995  Sun Jun 07 15:40:02 PDT 2009  NO_QUERY   \n",
       "1271934       4  2000630703  Mon Jun 01 22:33:45 PDT 2009  NO_QUERY   \n",
       "1209447       4  1988937067  Sun May 31 23:49:36 PDT 2009  NO_QUERY   \n",
       "209371        0  1973956714  Sat May 30 12:09:40 PDT 2009  NO_QUERY   \n",
       "...         ...         ...                           ...       ...   \n",
       "865766        4  1677507235  Sat May 02 02:26:58 PDT 2009  NO_QUERY   \n",
       "937050        4  1793140269  Thu May 14 01:31:39 PDT 2009  NO_QUERY   \n",
       "361463        0  2046927220  Fri Jun 05 12:53:53 PDT 2009  NO_QUERY   \n",
       "194291        0  1970258730  Sat May 30 03:06:42 PDT 2009  NO_QUERY   \n",
       "933834        4  1792116071  Wed May 13 22:10:00 PDT 2009  NO_QUERY   \n",
       "\n",
       "                  user                                               text  \\\n",
       "663294        moe_7210                     Too much drama i need a break    \n",
       "1492571        MaschaD  @Dave_Annable good for u Dave sometimes u gott...   \n",
       "1271934       scibo222  Watching Conan O'Brian on the tonight show. Lo...   \n",
       "1209447       rissybug           @LoveKota Following  I so text you ho...   \n",
       "209371          SIM00N  @natalieridout yea it was ok - didn't do much ...   \n",
       "...                ...                                                ...   \n",
       "865766       sdziallas            @suze2000 do you still have one spare?    \n",
       "937050      bogwhoppit                  @eastenderschat glad easties won    \n",
       "361463    ZombieCanary  My mom has to pay 725 a month for sarah to go ...   \n",
       "194291   innocencedied  @dancedancetoday thats so bad  dunno what i co...   \n",
       "933834       pamelapot                                  READY for summer    \n",
       "\n",
       "                                            text_processed  \n",
       "663294                                      [drama, break]  \n",
       "1492571              [dave, annabl, dave, sometim, courag]  \n",
       "1271934   [watch, conan, brian, tonight, show, love, hair]  \n",
       "1209447                           [lovekota, follow, text]  \n",
       "209371   [natalieridout, yea, wa, attempt, work, wait, ...  \n",
       "...                                                    ...  \n",
       "865766                                       [suze, spare]  \n",
       "937050                       [eastenderschat, glad, easti]  \n",
       "361463                    [mom, pay, month, sarah, school]  \n",
       "194291                      [dancedancetoday, dunno, hope]  \n",
       "933834                                     [readi, summer]  \n",
       "\n",
       "[5000 rows x 7 columns]"
      ]
     },
     "execution_count": 8,
     "metadata": {},
     "output_type": "execute_result"
    }
   ],
   "source": [
    "df"
   ]
  },
  {
   "cell_type": "code",
   "execution_count": 9,
   "metadata": {},
   "outputs": [],
   "source": []
  },
  {
   "cell_type": "code",
   "execution_count": 10,
   "metadata": {},
   "outputs": [],
   "source": []
  },
  {
   "cell_type": "code",
   "execution_count": null,
   "metadata": {},
   "outputs": [],
   "source": []
  },
  {
   "cell_type": "code",
   "execution_count": null,
   "metadata": {},
   "outputs": [],
   "source": []
  },
  {
   "cell_type": "markdown",
   "metadata": {},
   "source": [
    "### Creating Bag of Words\n",
    "\n",
    "The purpose of this step is to create a [bag of words](https://en.wikipedia.org/wiki/Bag-of-words_model) from the processed data. The bag of words contains all the unique words in your whole text body (a.k.a. *corpus*) with the number of occurrence of each word. It will allow you to understand which words are the most important features across the whole corpus.\n",
    "\n",
    "Also, you can imagine you will have a massive set of words. The less important words (i.e. those of very low number of occurrence) do not contribute much to the sentiment. Therefore, you only need to use the most important words to build your feature set in the next step. In our case, we will use the top 5,000 words with the highest frequency to build the features.\n",
    "\n",
    "In the cell below, combine all the words in `text_processed` and calculate the frequency distribution of all words. A convenient library to calculate the term frequency distribution is NLTK's `FreqDist` class ([documentation](https://www.nltk.org/api/nltk.html#module-nltk.probability)). Then select the top 5,000 words from the frequency distribution."
   ]
  },
  {
   "cell_type": "code",
   "execution_count": 9,
   "metadata": {},
   "outputs": [
    {
     "data": {
      "text/html": [
       "<div>\n",
       "<style scoped>\n",
       "    .dataframe tbody tr th:only-of-type {\n",
       "        vertical-align: middle;\n",
       "    }\n",
       "\n",
       "    .dataframe tbody tr th {\n",
       "        vertical-align: top;\n",
       "    }\n",
       "\n",
       "    .dataframe thead th {\n",
       "        text-align: right;\n",
       "    }\n",
       "</style>\n",
       "<table border=\"1\" class=\"dataframe\">\n",
       "  <thead>\n",
       "    <tr style=\"text-align: right;\">\n",
       "      <th></th>\n",
       "      <th>target</th>\n",
       "      <th>id</th>\n",
       "      <th>date</th>\n",
       "      <th>flag</th>\n",
       "      <th>user</th>\n",
       "      <th>text</th>\n",
       "      <th>text_processed</th>\n",
       "      <th>clean_blob</th>\n",
       "    </tr>\n",
       "  </thead>\n",
       "  <tbody>\n",
       "    <tr>\n",
       "      <th>663294</th>\n",
       "      <td>0</td>\n",
       "      <td>2244063679</td>\n",
       "      <td>Fri Jun 19 14:15:17 PDT 2009</td>\n",
       "      <td>NO_QUERY</td>\n",
       "      <td>moe_7210</td>\n",
       "      <td>Too much drama i need a break</td>\n",
       "      <td>[drama, break]</td>\n",
       "      <td>drama break</td>\n",
       "    </tr>\n",
       "    <tr>\n",
       "      <th>1492571</th>\n",
       "      <td>4</td>\n",
       "      <td>2069322995</td>\n",
       "      <td>Sun Jun 07 15:40:02 PDT 2009</td>\n",
       "      <td>NO_QUERY</td>\n",
       "      <td>MaschaD</td>\n",
       "      <td>@Dave_Annable good for u Dave sometimes u gott...</td>\n",
       "      <td>[dave, annabl, dave, sometim, courag]</td>\n",
       "      <td>dave annabl dave sometim courag</td>\n",
       "    </tr>\n",
       "    <tr>\n",
       "      <th>1271934</th>\n",
       "      <td>4</td>\n",
       "      <td>2000630703</td>\n",
       "      <td>Mon Jun 01 22:33:45 PDT 2009</td>\n",
       "      <td>NO_QUERY</td>\n",
       "      <td>scibo222</td>\n",
       "      <td>Watching Conan O'Brian on the tonight show. Lo...</td>\n",
       "      <td>[watch, conan, brian, tonight, show, love, hair]</td>\n",
       "      <td>watch conan brian tonight show love hair</td>\n",
       "    </tr>\n",
       "    <tr>\n",
       "      <th>1209447</th>\n",
       "      <td>4</td>\n",
       "      <td>1988937067</td>\n",
       "      <td>Sun May 31 23:49:36 PDT 2009</td>\n",
       "      <td>NO_QUERY</td>\n",
       "      <td>rissybug</td>\n",
       "      <td>@LoveKota Following  I so text you ho...</td>\n",
       "      <td>[lovekota, follow, text]</td>\n",
       "      <td>lovekota follow text</td>\n",
       "    </tr>\n",
       "    <tr>\n",
       "      <th>209371</th>\n",
       "      <td>0</td>\n",
       "      <td>1973956714</td>\n",
       "      <td>Sat May 30 12:09:40 PDT 2009</td>\n",
       "      <td>NO_QUERY</td>\n",
       "      <td>SIM00N</td>\n",
       "      <td>@natalieridout yea it was ok - didn't do much ...</td>\n",
       "      <td>[natalieridout, yea, wa, attempt, work, wait, ...</td>\n",
       "      <td>natalieridout yea wa attempt work wait exam ho...</td>\n",
       "    </tr>\n",
       "  </tbody>\n",
       "</table>\n",
       "</div>"
      ],
      "text/plain": [
       "         target          id                          date      flag      user  \\\n",
       "663294        0  2244063679  Fri Jun 19 14:15:17 PDT 2009  NO_QUERY  moe_7210   \n",
       "1492571       4  2069322995  Sun Jun 07 15:40:02 PDT 2009  NO_QUERY   MaschaD   \n",
       "1271934       4  2000630703  Mon Jun 01 22:33:45 PDT 2009  NO_QUERY  scibo222   \n",
       "1209447       4  1988937067  Sun May 31 23:49:36 PDT 2009  NO_QUERY  rissybug   \n",
       "209371        0  1973956714  Sat May 30 12:09:40 PDT 2009  NO_QUERY    SIM00N   \n",
       "\n",
       "                                                      text  \\\n",
       "663294                      Too much drama i need a break    \n",
       "1492571  @Dave_Annable good for u Dave sometimes u gott...   \n",
       "1271934  Watching Conan O'Brian on the tonight show. Lo...   \n",
       "1209447           @LoveKota Following  I so text you ho...   \n",
       "209371   @natalieridout yea it was ok - didn't do much ...   \n",
       "\n",
       "                                            text_processed  \\\n",
       "663294                                      [drama, break]   \n",
       "1492571              [dave, annabl, dave, sometim, courag]   \n",
       "1271934   [watch, conan, brian, tonight, show, love, hair]   \n",
       "1209447                           [lovekota, follow, text]   \n",
       "209371   [natalieridout, yea, wa, attempt, work, wait, ...   \n",
       "\n",
       "                                                clean_blob  \n",
       "663294                                         drama break  \n",
       "1492571                    dave annabl dave sometim courag  \n",
       "1271934           watch conan brian tonight show love hair  \n",
       "1209447                               lovekota follow text  \n",
       "209371   natalieridout yea wa attempt work wait exam ho...  "
      ]
     },
     "execution_count": 9,
     "metadata": {},
     "output_type": "execute_result"
    }
   ],
   "source": [
    "# your code here\n",
    "def re_blob(row):\n",
    "      return \" \".join(row['text_processed'])\n",
    "\n",
    "df['clean_blob'] = df.apply(re_blob,axis=1)\n",
    "df.head()"
   ]
  },
  {
   "cell_type": "code",
   "execution_count": 10,
   "metadata": {},
   "outputs": [],
   "source": [
    "#bow_vect = CountVectorizer(max_features=5000)\n",
    "# fit creates one entry for each different word seen  \n",
    "#X = bow_vect.fit_transform(df['clean_blob']).toarray()"
   ]
  },
  {
   "cell_type": "code",
   "execution_count": 16,
   "metadata": {},
   "outputs": [
    {
     "data": {
      "text/plain": [
       "5000"
      ]
     },
     "execution_count": 16,
     "metadata": {},
     "output_type": "execute_result"
    }
   ],
   "source": [
    "len(df.text_processed)"
   ]
  },
  {
   "cell_type": "code",
   "execution_count": 17,
   "metadata": {},
   "outputs": [],
   "source": [
    "all_words = []\n",
    "\n",
    "for i in range(len(df.text_processed)):\n",
    "    for j in range(len(df.text_processed.iloc[i])):\n",
    "        all_words.append(df.text_processed.iloc[i][j].lower())\n",
    "\n"
   ]
  },
  {
   "cell_type": "code",
   "execution_count": 18,
   "metadata": {},
   "outputs": [],
   "source": [
    "all_words = nltk.FreqDist(all_words)"
   ]
  },
  {
   "cell_type": "code",
   "execution_count": 2,
   "metadata": {},
   "outputs": [],
   "source": [
    "#sorted(all_words.values(),reverse=True)"
   ]
  },
  {
   "cell_type": "code",
   "execution_count": 89,
   "metadata": {},
   "outputs": [
    {
     "data": {
      "text/plain": [
       "FreqDist({'day': 337, 'wa': 307, 'work': 266, 'love': 234, 'time': 211, 'quot': 207, 'today': 194, 'miss': 191, 'back': 178, 'realli': 170, ...})"
      ]
     },
     "execution_count": 89,
     "metadata": {},
     "output_type": "execute_result"
    }
   ],
   "source": [
    "all_words"
   ]
  },
  {
   "cell_type": "code",
   "execution_count": null,
   "metadata": {},
   "outputs": [],
   "source": []
  },
  {
   "cell_type": "markdown",
   "metadata": {},
   "source": [
    "### Building Features\n",
    "\n",
    "Now let's build the features. Using the top 5,000 words, create a 2-dimensional matrix to record whether each of those words is contained in each document (tweet). Then you also have an output column to indicate whether the sentiment in each tweet is positive. For example, assuming your bag of words has 5 items (`['one', 'two', 'three', 'four', 'five']`) out of 4 documents (`['A', 'B', 'C', 'D']`), your feature set is essentially:\n",
    "\n",
    "| Doc | one | two | three | four | five | is_positive |\n",
    "|---|---|---|---|---|---|---|\n",
    "| A | True | False | False | True | False | True |\n",
    "| B | False | False | False | True | True | False |\n",
    "| C | False | True | False | False | False | True |\n",
    "| D | True | False | False | False | True | False|\n",
    "\n",
    "However, because the `nltk.NaiveBayesClassifier.train` class we will use in the next step does not work with Pandas dataframe, the structure of your feature set should be converted to the Python list looking like below:\n",
    "\n",
    "```python\n",
    "[\n",
    "\t({\n",
    "\t\t'one': True,\n",
    "\t\t'two': False,\n",
    "\t\t'three': False,\n",
    "\t\t'four': True,\n",
    "\t\t'five': False\n",
    "\t}, True),\n",
    "\t({\n",
    "\t\t'one': False,\n",
    "\t\t'two': False,\n",
    "\t\t'three': False,\n",
    "\t\t'four': True,\n",
    "\t\t'five': True\n",
    "\t}, False),\n",
    "\t({\n",
    "\t\t'one': False,\n",
    "\t\t'two': True,\n",
    "\t\t'three': False,\n",
    "\t\t'four': False,\n",
    "\t\t'five': False\n",
    "\t}, True),\n",
    "\t({\n",
    "\t\t'one': True,\n",
    "\t\t'two': False,\n",
    "\t\t'three': False,\n",
    "\t\t'four': False,\n",
    "\t\t'five': True\n",
    "\t}, False)\n",
    "]\n",
    "```\n",
    "\n",
    "To help you in this step, watch the [following video](https://www.youtube.com/watch?v=-vVskDsHcVc) to learn how to build the feature set with Python and NLTK. The source code in this video can be found [here](https://pythonprogramming.net/words-as-features-nltk-tutorial/)."
   ]
  },
  {
   "cell_type": "code",
   "execution_count": null,
   "metadata": {},
   "outputs": [],
   "source": []
  },
  {
   "cell_type": "markdown",
   "metadata": {},
   "source": [
    "[![Building Features](building-features.jpg)](https://www.youtube.com/watch?v=-vVskDsHcVc)"
   ]
  },
  {
   "cell_type": "code",
   "execution_count": 90,
   "metadata": {},
   "outputs": [],
   "source": [
    "# your code here\n",
    "word_features = list(all_words.keys())[:3000]"
   ]
  },
  {
   "cell_type": "code",
   "execution_count": 91,
   "metadata": {},
   "outputs": [
    {
     "data": {
      "text/plain": [
       "3000"
      ]
     },
     "execution_count": 91,
     "metadata": {},
     "output_type": "execute_result"
    }
   ],
   "source": [
    "len(word_features)"
   ]
  },
  {
   "cell_type": "code",
   "execution_count": 97,
   "metadata": {},
   "outputs": [],
   "source": [
    "def find_features(document):\n",
    "    words = set(document)\n",
    "    features = {}\n",
    "    for w in word_features:\n",
    "        for i in words:\n",
    "            if w in i:\n",
    "                features[w] = True\n",
    "                break\n",
    "            else:\n",
    "                features[w]=False\n",
    "            \n",
    "\n",
    "    return features"
   ]
  },
  {
   "cell_type": "code",
   "execution_count": null,
   "metadata": {},
   "outputs": [],
   "source": []
  },
  {
   "cell_type": "code",
   "execution_count": 98,
   "metadata": {},
   "outputs": [],
   "source": [
    "#b=set(df[df.target == 4].clean_blob)"
   ]
  },
  {
   "cell_type": "code",
   "execution_count": null,
   "metadata": {},
   "outputs": [],
   "source": []
  },
  {
   "cell_type": "code",
   "execution_count": null,
   "metadata": {},
   "outputs": [],
   "source": []
  },
  {
   "cell_type": "code",
   "execution_count": 100,
   "metadata": {},
   "outputs": [],
   "source": [
    "a=find_features(df[(df.target==4)].clean_blob)"
   ]
  },
  {
   "cell_type": "code",
   "execution_count": 1,
   "metadata": {},
   "outputs": [],
   "source": [
    "#a"
   ]
  },
  {
   "cell_type": "markdown",
   "metadata": {},
   "source": [
    "### Building and Traininng Naive Bayes Model\n",
    "\n",
    "In this step you will split your feature set into a training and a test set. Then you will create a Bayes classifier instance using `nltk.NaiveBayesClassifier.train` ([example](https://www.nltk.org/book/ch06.html)) to train with the training dataset.\n",
    "\n",
    "After training the model, call `classifier.show_most_informative_features()` to inspect the most important features. The output will look like:\n",
    "\n",
    "```\n",
    "Most Informative Features\n",
    "\t    snow = True            False : True   =     34.3 : 1.0\n",
    "\t  easter = True            False : True   =     26.2 : 1.0\n",
    "\t headach = True            False : True   =     20.9 : 1.0\n",
    "\t    argh = True            False : True   =     17.6 : 1.0\n",
    "\tunfortun = True            False : True   =     16.9 : 1.0\n",
    "\t    jona = True             True : False  =     16.2 : 1.0\n",
    "\t     ach = True            False : True   =     14.9 : 1.0\n",
    "\t     sad = True            False : True   =     13.0 : 1.0\n",
    "\t  parent = True            False : True   =     12.9 : 1.0\n",
    "\t  spring = True            False : True   =     12.7 : 1.0\n",
    "```\n",
    "\n",
    "The [following video](https://www.youtube.com/watch?v=rISOsUaTrO4) will help you complete this step. The source code in this video can be found [here](https://pythonprogramming.net/naive-bayes-classifier-nltk-tutorial/)."
   ]
  },
  {
   "cell_type": "code",
   "execution_count": null,
   "metadata": {},
   "outputs": [],
   "source": []
  },
  {
   "cell_type": "markdown",
   "metadata": {},
   "source": [
    "[![Building and Training NB](nb-model-building.jpg)](https://www.youtube.com/watch?v=rISOsUaTrO4)"
   ]
  },
  {
   "cell_type": "code",
   "execution_count": null,
   "metadata": {},
   "outputs": [],
   "source": [
    "# your code here"
   ]
  },
  {
   "cell_type": "markdown",
   "metadata": {},
   "source": [
    "### Testing Naive Bayes Model\n",
    "\n",
    "Now we'll test our classifier with the test dataset. This is done by calling `nltk.classify.accuracy(classifier, test)`.\n",
    "\n",
    "As mentioned in one of the tutorial videos, a Naive Bayes model is considered OK if your accuracy score is over 0.6. If your accuracy score is over 0.7, you've done a great job!"
   ]
  },
  {
   "cell_type": "code",
   "execution_count": null,
   "metadata": {},
   "outputs": [],
   "source": [
    "# your code here"
   ]
  },
  {
   "cell_type": "markdown",
   "metadata": {},
   "source": [
    "## Bonus Question 1: Improve Model Performance\n",
    "\n",
    "If you are still not exhausted so far and want to dig deeper, try to improve your classifier performance. There are many aspects you can dig into, for example:\n",
    "\n",
    "* Improve stemming and lemmatization. Inspect your bag of words and the most important features. Are there any words you should furuther remove from analysis? You can append these words to further remove to the stop words list.\n",
    "\n",
    "* Remember we only used the top 5,000 features to build model? Try using different numbers of top features. The bottom line is to use as few features as you can without compromising your model performance. The fewer features you select into your model, the faster your model is trained. Then you can use a larger sample size to improve your model accuracy score."
   ]
  },
  {
   "cell_type": "code",
   "execution_count": null,
   "metadata": {},
   "outputs": [],
   "source": [
    "# your code here"
   ]
  },
  {
   "cell_type": "markdown",
   "metadata": {},
   "source": [
    "## Bonus Question 2: Machine Learning Pipeline\n",
    "\n",
    "In a new Jupyter Notebook, combine all your codes into a function (or a class). Your new function will execute the complete machine learning pipeline job by receiving the dataset location and output the classifier. This will allow you to use your function to predict the sentiment of any tweet in real time. "
   ]
  },
  {
   "cell_type": "code",
   "execution_count": null,
   "metadata": {},
   "outputs": [],
   "source": [
    "# your code here"
   ]
  },
  {
   "cell_type": "markdown",
   "metadata": {},
   "source": [
    "## Bonus Question 3: Apache Spark\n",
    "\n",
    "If you have completed the Apache Spark advanced topic lab, what you can do is to migrate your pipeline from local to a Databricks Notebook. Share your notebook with your instructor and classmates to show off your achievements!"
   ]
  },
  {
   "cell_type": "code",
   "execution_count": null,
   "metadata": {},
   "outputs": [],
   "source": [
    "# your code here"
   ]
  }
 ],
 "metadata": {
  "kernelspec": {
   "display_name": "Python 3 (ipykernel)",
   "language": "python",
   "name": "python3"
  },
  "language_info": {
   "codemirror_mode": {
    "name": "ipython",
    "version": 3
   },
   "file_extension": ".py",
   "mimetype": "text/x-python",
   "name": "python",
   "nbconvert_exporter": "python",
   "pygments_lexer": "ipython3",
   "version": "3.9.12"
  }
 },
 "nbformat": 4,
 "nbformat_minor": 2
}
